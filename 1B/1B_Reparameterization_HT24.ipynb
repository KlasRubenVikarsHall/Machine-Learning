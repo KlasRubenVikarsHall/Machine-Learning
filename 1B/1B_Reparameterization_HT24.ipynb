{
 "cells": [
  {
   "cell_type": "markdown",
   "metadata": {
    "id": "AALnQO-y6HOz"
   },
   "source": [
    "# ***Reparameterization of common distributions***\n",
    "\n",
    "\n",
    "\n"
   ]
  },
  {
   "cell_type": "markdown",
   "metadata": {
    "id": "wRc3KUnVPHm9"
   },
   "source": [
    "We will work with Torch throughout this notebook."
   ]
  },
  {
   "cell_type": "code",
   "execution_count": 13,
   "metadata": {
    "id": "9hD0wA4YPFzy"
   },
   "outputs": [],
   "source": [
    "import torch\n",
    "from torch.distributions import Beta, Dirichlet, LogisticNormal#, ...  import the distributions you need here\n",
    "from torch.nn import functional as F"
   ]
  },
  {
   "cell_type": "markdown",
   "metadata": {
    "id": "Oqjx4h2_6ifq"
   },
   "source": [
    "### ***Q1. Beta Distribution***\n",
    "Below write a function that generates N samples from $Beta(a,b)$"
   ]
  },
  {
   "cell_type": "code",
   "execution_count": 4,
   "metadata": {
    "id": "tZIdS5CG6AwI"
   },
   "outputs": [],
   "source": [
    "def beta_sampler(a, b, N):\n",
    "  # insert your code\n",
    "  beta_dist = torch.distributions.Beta(a, b)\n",
    "  samples = beta_dist.sample((N,))\n",
    "  return samples # should be N-by-1"
   ]
  },
  {
   "cell_type": "markdown",
   "metadata": {
    "id": "QLJhOusWPtlp"
   },
   "source": [
    "Now, reparameterize $Beta(a,b)$ via Kumaraswamy(a,b) approximation:"
   ]
  },
  {
   "cell_type": "code",
   "execution_count": 5,
   "metadata": {
    "id": "GlC1BoQM8hJ5"
   },
   "outputs": [],
   "source": [
    "def beta_reparametrize(a,b,N):\n",
    "  # this function should return N samples as well,\n",
    "  # but they are generated using the reparameterization trick\n",
    "  x = torch.rand(N)\n",
    "  samples = (1 - (1 - x) ** (1/b)) ** (1/a)\n",
    "  # insert your code\n",
    "\n",
    "  return samples"
   ]
  },
  {
   "cell_type": "markdown",
   "metadata": {
    "id": "qhcRxrXpQFeL"
   },
   "source": [
    "Now, generate 1000 samples from $Beta(a,b)$, where  $a = 1 $, $ b = 0.7$, both directly and using the reparameterization."
   ]
  },
  {
   "cell_type": "code",
   "execution_count": 6,
   "metadata": {
    "id": "Fsx3z9K_8NBk"
   },
   "outputs": [],
   "source": [
    "a = 1\n",
    "b = 0.7\n",
    "N = 1000\n",
    "direct_samples = beta_sampler(a, b, N)\n",
    "reparametrized_samples = beta_reparametrize(a, b, N)"
   ]
  },
  {
   "cell_type": "markdown",
   "metadata": {
    "id": "HSQ2cI-_QeEW"
   },
   "source": [
    "A helper function to visualize the generated samples:"
   ]
  },
  {
   "cell_type": "code",
   "execution_count": 7,
   "metadata": {
    "id": "8U4TWTzs9KVd"
   },
   "outputs": [],
   "source": [
    "import matplotlib.pyplot as plt\n",
    "def compare_samples (samples_1, samples_2, bins=100, range=None):\n",
    "  fig = plt.figure()\n",
    "  if range is not None:\n",
    "    plt.hist(samples_1, bins=bins, range=range)\n",
    "    plt.hist(samples_2, bins=bins, range=range)\n",
    "  else:\n",
    "    plt.hist(samples_1, bins=bins)\n",
    "    plt.hist(samples_2, bins=bins)\n",
    "  plt.xlabel('value')\n",
    "  plt.ylabel('number of samples')\n",
    "  plt.legend(['direct','via reparameterization'])\n",
    "  plt.show()"
   ]
  },
  {
   "cell_type": "markdown",
   "metadata": {
    "id": "ntIes7KCRHvR"
   },
   "source": [
    "Compare the generated samples:"
   ]
  },
  {
   "cell_type": "code",
   "execution_count": 12,
   "metadata": {
    "id": "HkrFgrqi-KoW"
   },
   "outputs": [
    {
     "data": {
      "image/png": "[encoded data removed]",
      "text/plain": [
       "<Figure size 640x480 with 1 Axes>"
      ]
     },
     "metadata": {},
     "output_type": "display_data"
    }
   ],
   "source": [
    "compare_samples (direct_samples, reparametrized_samples)"
   ]
  },
  {
   "cell_type": "markdown",
   "metadata": {
    "id": "-YATmfnnBRsS"
   },
   "source": [
    "### ***Q2. Dirichlet Distribution***\n"
   ]
  },
  {
   "cell_type": "markdown",
   "metadata": {
    "id": "-o2kMLV_WA81"
   },
   "source": [
    "Write a function that generates N samples from Dirichlet ($\\alpha$), where $\\alpha = [\\alpha_0, \\alpha_1, \\alpha_2]$."
   ]
  },
  {
   "cell_type": "code",
   "execution_count": 19,
   "metadata": {
    "id": "by1mS-yuhySU"
   },
   "outputs": [],
   "source": [
    "def dirichlet_sampler(alpha, N):\n",
    "  # insert your code\n",
    "  dirichlet_dist = torch.distributions.Dirichlet(alpha)\n",
    "  samples = dirichlet_dist.sample((N,))\n",
    "  return samples  # should be N-by-3"
   ]
  },
  {
   "cell_type": "markdown",
   "metadata": {
    "id": "DOy4JwskW3bt"
   },
   "source": [
    "Implement the reparameterization trick for the Dirichlet distribution:"
   ]
  },
  {
   "cell_type": "code",
   "execution_count": 25,
   "metadata": {
    "id": "obCDFRyRi3QS"
   },
   "outputs": [],
   "source": [
    "# Hint: approximate it by the Softmax-Gaussian distribution.\n",
    "def dirichlet_reparametrize(alpha, N):\n",
    "  # insert your code\n",
    "  mu = torch.log(alpha) \n",
    "  sigma = 1 / torch.sqrt(alpha)\n",
    "  # lognormal = torch.distributions.LogisticNormal(mu, sigma)\n",
    "  # samples = lognormal.sample((N,))\n",
    "  z = torch.randn((N, len(alpha))) * sigma + mu\n",
    "\n",
    "  # Step 3: Apply softmax to map Gaussian samples to the simplex\n",
    "  samples = F.softmax(z, dim=-1)\n",
    "\n",
    "  return samples"
   ]
  },
  {
   "cell_type": "markdown",
   "metadata": {
    "id": "-mwOQtQ2YCDT"
   },
   "source": [
    "Generate samples for $\\alpha= [1, 10, 1]$:"
   ]
  },
  {
   "cell_type": "code",
   "execution_count": 26,
   "metadata": {
    "id": "UOyP4ozoiABX"
   },
   "outputs": [],
   "source": [
    "alpha = torch.Tensor([1, 10, 1])\n",
    "N = 100\n",
    "direct_samples = dirichlet_sampler(alpha, N)\n",
    "reparametrized_samples = dirichlet_reparametrize(alpha, N)"
   ]
  },
  {
   "cell_type": "markdown",
   "metadata": {
    "id": "kdM74FylYj5c"
   },
   "source": [
    "A helper function to visualize dirichlet samples:"
   ]
  },
  {
   "cell_type": "code",
   "execution_count": 27,
   "metadata": {
    "id": "KaiPcmBxrmDz"
   },
   "outputs": [],
   "source": [
    "def dirichlet_plotter (samples_1, samples_2, idx):\n",
    "  fig = plt.figure()\n",
    "\n",
    "  plt.bar([1,2,3], samples_1[idx,:])\n",
    "  plt.xlabel('categories')\n",
    "  plt.ylabel('prob')\n",
    "  plt.title('direct sampling')\n",
    "  plt.xticks([1, 2, 3], ['1', '2', '3'])\n",
    "  fig = plt.figure()\n",
    "  plt.bar([1,2,3], samples_2[idx,:])\n",
    "  plt.xlabel('categories')\n",
    "  plt.ylabel('prob')\n",
    "  plt.title('via reparametrization')\n",
    "  plt.xticks([1, 2, 3], ['1', '2', '3'])\n",
    "  plt.show()"
   ]
  },
  {
   "cell_type": "markdown",
   "metadata": {
    "id": "U0UqSAjWY6Xd"
   },
   "source": [
    "Compare the samples drawn from the Dirichlet distribution and the samples drawn from the reparametrized version of it (do it for a few different idx):"
   ]
  },
  {
   "cell_type": "code",
   "execution_count": 28,
   "metadata": {
    "id": "GKrpNNLZYwCv"
   },
   "outputs": [
    {
     "data": {
      "image/png": "[encoded data removed]",
      "text/plain": [
       "<Figure size 640x480 with 1 Axes>"
      ]
     },
     "metadata": {},
     "output_type": "display_data"
    },
    {
     "data": {
      "image/png": "[encoded data removed]",
      "text/plain": [
       "<Figure size 640x480 with 1 Axes>"
      ]
     },
     "metadata": {},
     "output_type": "display_data"
    }
   ],
   "source": [
    "dirichlet_plotter(direct_samples, reparametrized_samples, idx=1) # idx= 0, 1, ..., N"
   ]
  }
 ],
 "metadata": {
  "colab": {
   "provenance": []
  },
  "kernelspec": {
   "display_name": "Python 3",
   "name": "python3"
  },
  "language_info": {
   "codemirror_mode": {
    "name": "ipython",
    "version": 3
   },
   "file_extension": ".py",
   "mimetype": "text/x-python",
   "name": "python",
   "nbconvert_exporter": "python",
   "pygments_lexer": "ipython3",
   "version": "3.11.1"
  }
 },
 "nbformat": 4,
 "nbformat_minor": 0
}
