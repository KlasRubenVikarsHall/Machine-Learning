{
 "cells": [
  {
   "cell_type": "code",
   "execution_count": 2,
   "metadata": {
    "ExecuteTime": {
     "end_time": "2024-11-16T21:52:51.955388Z",
     "start_time": "2024-11-16T21:52:51.766014Z"
    },
    "collapsed": true
   },
   "outputs": [],
   "source": [
    "from typing import List\n",
    "import numpy as np\n",
    "import scipy.special as sp_spec\n",
    "import numpy.random as np_rand\n",
    "import matplotlib.pyplot as plt\n",
    "from sklearn.cluster import KMeans\n",
    "from sklearn.metrics import adjusted_rand_score\n",
    "import tqdm\n",
    "import seaborn as sns"
   ]
  },
  {
   "cell_type": "markdown",
   "metadata": {
    "collapsed": false
   },
   "source": [
    "# Bernoulli Mixture Model - CAVI and SVI\n",
    "See the solution pdf for derivation of CAVI updates, ELBO and for notation used throughout the notebook. See theory part of Exercise problems for algorithm psuedo code and more. Updates are written using for-loops to more clearly show relation to derivations, however, you are recommended to use matrix operations.\n"
   ]
  },
  {
   "cell_type": "code",
   "execution_count": 2,
   "metadata": {
    "ExecuteTime": {
     "end_time": "2024-11-16T21:52:51.974725Z",
     "start_time": "2024-11-16T21:52:51.964965Z"
    },
    "collapsed": false
   },
   "outputs": [
    {
     "name": "stdout",
     "output_type": "stream",
     "text": [
      "First 3 datapoints: [[1. 1. 0.]\n",
      " [0. 1. 0.]\n",
      " [0. 0. 1.]]\n",
      "First 3 z: [1. 0. 0.]\n",
      "Mean of x: [0.377 0.422 0.189]\n",
      "Expected x: [0.4 0.4 0.2]\n",
      "Mean of z: [0.44 0.56]\n",
      "Expected z: [0.4 0.6]\n"
     ]
    }
   ],
   "source": [
    "def generate_data_and_priors(N: int, D: int, K: int, theta_a: float, theta_b: float, pi_alpha: List[int]):\n",
    "  \"\"\"\n",
    "  Generates datapoints and hidden variables given parameters for the priors.\n",
    "  :param N: Number of datapoints\n",
    "  :param D: Data dimension.\n",
    "  :param K: Number of mixture components.\n",
    "  :param theta_a: \"a\" parameter of the Beta(a,b) prior on theta.\n",
    "  :param theta_b: \"b\" parameter of the Beta(a,b) prior on theta.\n",
    "  :param pi_alpha: parameter of the Dirichlet(alpha) prior on pi.\n",
    "  :return:\n",
    "  \"\"\"\n",
    "  theta = np_rand.beta(theta_a, theta_b, size=(K,D))  # K x D matrix\n",
    "  pi = np_rand.dirichlet(pi_alpha) # size K array\n",
    "  x = np.zeros((N,D)) # N x D matrix\n",
    "  z = np.zeros(N)     # size N array \n",
    "  for n in range(N):\n",
    "    z_n = np_rand.multinomial(1, pi).argmax() # for each datapoint n, sample the component assignment/class variable\n",
    "    x_n = np.zeros(D)\n",
    "    for d in range(D): \n",
    "      x_n[d] = np_rand.binomial(1, theta[z_n, d]) # Sample x_nd from Bernoulli(theta_kd)\n",
    "    z[n] = z_n\n",
    "    x[n, :] = x_n\n",
    "\n",
    "  return x, z, theta, pi\n",
    "\n",
    "def generate_data(N: int, D: int, K: int, theta: np.ndarray , pi: np.ndarray):\n",
    "  \"\"\"\n",
    "   Generates datapoints given values of the hidden variables. Can be used for more \"control\" of experiments.\n",
    "  :param N: Number of datapoints\n",
    "  :param D: Data dimension.\n",
    "  :param K: Number of mixture components.\n",
    "  :param theta: Values of theta.\n",
    "  :param pi: Value of pi.\n",
    "  :return:\n",
    "  \"\"\"\n",
    "  x = np.zeros((N,D)) # N x D matrix\n",
    "  z = np.zeros(N)     # size N array\n",
    "  for n in range(N):\n",
    "    z_n = np_rand.multinomial(1, pi).argmax() # for each datapoint n, sample the component assignment/class variable\n",
    "    x_n = np.zeros(D)\n",
    "    for d in range(D):\n",
    "      x_n[d] = np_rand.binomial(1, theta[z_n, d])\n",
    "    z[n] = z_n\n",
    "    x[n, :] = x_n\n",
    "\n",
    "  return x, z, theta, pi\n",
    "\n",
    "# Test the functions by running for some simple cases and verify that data and variables look as expected.\n",
    "N = 1000\n",
    "D = 3\n",
    "K = 2\n",
    "\n",
    "theta = np.array([[0.1, 0.7, 0.2], [0.6, 0.2, 0.2]])\n",
    "pi = np.array([0.4, 0.6])\n",
    "x, z, theta, pi = generate_data(N, D, K, theta, pi)\n",
    "print(f\"First 3 datapoints: {x[0:3, 0:5]}\")\n",
    "print(f\"First 3 z: {z[0:3]}\")\n",
    "\n",
    "x_mean = np.mean(x, axis=0)\n",
    "print(f\"Mean of x: {x_mean}\")\n",
    "print(f\"Expected x: {pi[0] * theta[0] + pi[1] * theta[1]}\")\n",
    "z_one_hot = np.eye(K)[z.astype(int)]\n",
    "print(f\"Mean of z: {np.mean(z_one_hot, axis=0)}\")\n",
    "print(f\"Expected z: {pi}\")"
   ]
  },
  {
   "cell_type": "markdown",
   "metadata": {
    "collapsed": false
   },
   "source": [
    "## Initialization and ELBO calculation\n",
    "\n",
    "Initialization strategy and ELBO calculation are the save for CAVI and SVI algorithms so we define them first."
   ]
  },
  {
   "cell_type": "markdown",
   "metadata": {
    "collapsed": false
   },
   "source": [
    "### Helper functions"
   ]
  },
  {
   "cell_type": "code",
   "execution_count": 3,
   "metadata": {
    "ExecuteTime": {
     "end_time": "2024-11-16T21:52:52.034128Z",
     "start_time": "2024-11-16T21:52:52.032482Z"
    },
    "collapsed": false
   },
   "outputs": [],
   "source": [
    "def multivariate_beta_function(a):\n",
    "    eps = 0.0001  # for numerical stability to avoid -inf\n",
    "    return np.exp(np.sum(sp_spec.gammaln(a + eps) - sp_spec.gammaln(np.sum(a + eps))))"
   ]
  },
  {
   "cell_type": "code",
   "execution_count": 4,
   "metadata": {
    "ExecuteTime": {
     "end_time": "2024-11-16T21:52:52.114804Z",
     "start_time": "2024-11-16T21:52:52.042174Z"
    },
    "collapsed": false
   },
   "outputs": [],
   "source": [
    "def initialize_q(x, K):\n",
    "    N, D = x.shape\n",
    "    kmeans =  KMeans(n_clusters=K, random_state=0, n_init=30).fit(x)\n",
    "    labels = kmeans.labels_\n",
    "    a_q_init = np.zeros((K, D))\n",
    "    b_q_init = np.zeros((K, D))\n",
    "    for k in range(K):\n",
    "        x_k = x[labels == k]\n",
    "        a_q_init[k, :] = np.mean(x_k, axis=0) + 1\n",
    "        b_q_init[k, :] = np.mean(1 - x_k, axis=0) + 1\n",
    "\n",
    "    r_q_init = np.random.rand(N, K)\n",
    "    r_q_init = r_q_init / np.sum(r_q_init, axis=1, keepdims=True)  # normalize\n",
    "    a_q_init = np.random.randint(1, 100, size=(K,D))\n",
    "    b_q_init = np.random.randint(1, 100, size=(K,D))\n",
    "    alpha_q_init = np.ones(K)\n",
    "    return r_q_init, a_q_init, b_q_init, alpha_q_init\n",
    "\n",
    "def calculate_elbo(x, r_q, a_q, b_q, alpha_q):\n",
    "    N, D = x.shape\n",
    "    K = r_q.shape[1]\n",
    "    E_log_theta = sp_spec.digamma(a_q) - sp_spec.digamma(a_q + b_q)\n",
    "    E_log_1_minus_theta = sp_spec.digamma(b_q) - sp_spec.digamma(a_q + b_q)\n",
    "    E_log_pi = sp_spec.digamma(alpha_q) - sp_spec.digamma(np.sum(alpha_q))\n",
    "    alpha_0 = np.sum(alpha_q)\n",
    "    CR_likelihood = np.sum(r_q * (np.einsum('nd,kd->nk', x, E_log_theta)\n",
    "                                  + np.einsum('nd,kd->nk', 1 - x, E_log_1_minus_theta)))\n",
    "    CR_Z = np.sum(r_q * E_log_pi)\n",
    "    eps = 0.0001  # for numerical stability to avoid -inf\n",
    "    CR_pi = -np.log(multivariate_beta_function(alpha_q) + eps) + np.sum((alpha_q - 1) * E_log_pi)\n",
    "    CR_theta = np.sum((a_q-1) * E_log_theta + (b_q-1) * E_log_1_minus_theta - sp_spec.beta(a_q, b_q))\n",
    "    H_Z = np.sum(r_q * np.log(r_q + eps))\n",
    "    H_pi = np.log(multivariate_beta_function(alpha_q) + eps) + (alpha_0 - K) * sp_spec.digamma(alpha_0) - \\\n",
    "           np.sum((alpha_q - 1) * sp_spec.digamma(alpha_q))\n",
    "    Beta_ab = sp_spec.beta(a_q, b_q) + eps\n",
    "    H_theta = np.sum(np.log(Beta_ab) - (a_q - 1) * sp_spec.digamma(a_q) -\n",
    "                     (b_q - 1) * sp_spec.digamma(b_q) + (a_q + b_q + 2) * sp_spec.digamma(a_q + b_q))\n",
    "    elbo = CR_likelihood + CR_Z + CR_pi + CR_theta + H_Z + H_pi + H_theta\n",
    "    return elbo\n",
    "\n",
    "N = 10\n",
    "K = 5\n",
    "x = np.random.random((N, K))\n",
    "r_q_init, a_q_init, b_q_init, alpha_q_init = initialize_q(x, K)"
   ]
  },
  {
   "cell_type": "markdown",
   "metadata": {
    "collapsed": false
   },
   "source": [
    "## CAVI update equations and CAVI algorithm"
   ]
  },
  {
   "cell_type": "markdown",
   "metadata": {},
   "source": [
    "### CAVI update equations"
   ]
  },
  {
   "cell_type": "code",
   "execution_count": 5,
   "metadata": {
    "ExecuteTime": {
     "end_time": "2024-11-16T21:52:52.124664Z",
     "start_time": "2024-11-16T21:52:52.122578Z"
    }
   },
   "outputs": [],
   "source": [
    "def update_q_theta(x, r_q, a_prior, b_prior):\n",
    "    E_Z = r_q\n",
    "    a_star = np.einsum('nk,nd->kd', E_Z, x) + a_prior\n",
    "    b_star = np.einsum('nk,nd->kd', E_Z, 1 - x) + b_prior\n",
    "    \n",
    "    return a_star, b_star"
   ]
  },
  {
   "cell_type": "code",
   "execution_count": 6,
   "metadata": {
    "ExecuteTime": {
     "end_time": "2024-11-16T21:52:52.133761Z",
     "start_time": "2024-11-16T21:52:52.131491Z"
    }
   },
   "outputs": [],
   "source": [
    "def update_q_Z(x, a_q, b_q, alpha_q):\n",
    "    \"\"\"\n",
    "    Implements the CAVI update equation of q(Z) derived in the solution of the exercise.\n",
    "    \"\"\"\n",
    "    E_log_theta = sp_spec.digamma(a_q) - sp_spec.digamma(a_q + b_q)         # K x D\n",
    "    E_log_1_minus_theta = sp_spec.digamma(b_q) - sp_spec.digamma(a_q + b_q) # K x D\n",
    "    E_log_pi = sp_spec.digamma(alpha_q) - sp_spec.digamma(np.sum(alpha_q))  # K array\n",
    "\n",
    "    log_rho = (np.einsum('nd,kd->nk', x, E_log_theta)\n",
    "               + np.einsum('nd,kd->nk', 1 - x, E_log_1_minus_theta)\n",
    "               + E_log_pi)\n",
    "\n",
    "    r_star = np.exp(log_rho - sp_spec.logsumexp(log_rho, axis=1, keepdims=True))\n",
    "    return r_star"
   ]
  },
  {
   "cell_type": "code",
   "execution_count": 7,
   "metadata": {
    "ExecuteTime": {
     "end_time": "2024-11-16T21:52:52.142359Z",
     "start_time": "2024-11-16T21:52:52.140273Z"
    }
   },
   "outputs": [],
   "source": [
    "def update_q_pi(E_Z, alpha_prior):\n",
    "    alpha_star = np.sum(E_Z, axis=0) + alpha_prior  # size K array\n",
    "    return alpha_star"
   ]
  },
  {
   "cell_type": "markdown",
   "metadata": {},
   "source": [
    "### CAVI algorithm"
   ]
  },
  {
   "cell_type": "code",
   "execution_count": 8,
   "metadata": {
    "ExecuteTime": {
     "end_time": "2024-11-16T21:52:52.152570Z",
     "start_time": "2024-11-16T21:52:52.148770Z"
    }
   },
   "outputs": [],
   "source": [
    "def CAVI_algorithm(x, K, n_iter, a_prior, b_prior, alpha_prior, step_size=0.01, tol=1e-6):\n",
    "    N, D = x.shape\n",
    "\n",
    "    r_q, a_q, b_q, alpha_q = initialize_q(x, K)\n",
    "    elbo_after_init = calculate_elbo(x, r_q, a_q, b_q, alpha_q)\n",
    "    # Store output per iteration\n",
    "    elbo = [elbo_after_init]\n",
    "    r_q_out = [r_q]\n",
    "    a_q_out = [a_q]\n",
    "    b_q_out = [b_q]\n",
    "    alpha_q_out = [alpha_q]\n",
    "\n",
    "    pbar = tqdm.tqdm(range(n_iter))\n",
    "    for i in pbar:\n",
    "        # CAVI updates\n",
    "        # q(Z) update\n",
    "        r_star = update_q_Z(x, a_q, b_q, alpha_q)\n",
    "        r_q += step_size * (r_star - r_q)\n",
    "        r_q = r_q / np.sum(r_q, axis=1, keepdims=True)  # normalize\n",
    "\n",
    "        # q(pi) update\n",
    "        alpha_star = update_q_pi(r_q, alpha_prior)\n",
    "        alpha_q += step_size * (alpha_star - alpha_q)\n",
    "\n",
    "        # q(theta) update\n",
    "        a_star, b_star = update_q_theta(x, r_q, a_prior, b_prior)\n",
    "        a_q = a_q + step_size * (a_star - a_q)\n",
    "        b_q = b_q + step_size * (b_star - b_q)\n",
    "\n",
    "        # ELBO\n",
    "        elbo.append(calculate_elbo(x, r_q, a_q, b_q, alpha_q))\n",
    "\n",
    "        # outputs\n",
    "        r_q_out.append(r_q)\n",
    "        a_q_out.append(a_q)\n",
    "        b_q_out.append(b_q)\n",
    "        alpha_q_out.append(alpha_q)\n",
    "\n",
    "        pbar.set_description(f\"ELBO: {elbo[i]:.2f}\")\n",
    "\n",
    "        if i > 1 and np.abs(elbo[i] - elbo[i-1]) < tol:\n",
    "            break\n",
    "\n",
    "    r_q_out = np.array(r_q_out)\n",
    "    a_q_out = np.array(a_q_out)\n",
    "    b_q_out = np.array(b_q_out)\n",
    "    alpha_q_out = np.array(alpha_q_out)\n",
    "    elbo = np.array(elbo)\n",
    "    out = {\"r_q\": r_q_out, \"a_q\": a_q_out, \"b_q\": b_q_out, \"alpha_q\": alpha_q_out, \"elbo\": elbo}\n",
    "    return out"
   ]
  },
  {
   "cell_type": "markdown",
   "metadata": {},
   "source": [
    "### Run CAVI algorithm"
   ]
  },
  {
   "cell_type": "code",
   "execution_count": 9,
   "metadata": {
    "ExecuteTime": {
     "end_time": "2024-11-16T21:52:55.631996Z",
     "start_time": "2024-11-16T21:52:52.161535Z"
    },
    "collapsed": false
   },
   "outputs": [
    {
     "name": "stderr",
     "output_type": "stream",
     "text": [
      "ELBO: -49770.69:  82%|████████▏ | 2447/3000 [00:03<00:00, 757.23it/s]\n"
     ]
    },
    {
     "name": "stdout",
     "output_type": "stream",
     "text": [
      "Print results (check for label switching).\n",
      "z :[4. 4. 1. 1. 1. 2. 1. 2. 4. 1.]\n",
      "r_q :[0 0 2 2 2 4 2 4 0 2]\n",
      "ARI :0.9059224852349239\n",
      "Expected value pi: [0.15124378 0.06965174 0.48855721 0.00099503 0.28955224]\n",
      "True pi: [0.17247658 0.49344696 0.12521849 0.07461518 0.1342428 ]\n"
     ]
    }
   ],
   "source": [
    "N = 1000\n",
    "D = 100\n",
    "K = 5\n",
    "n_iter = 3000\n",
    "a_prior = 1.\n",
    "b_prior = 1.\n",
    "alpha_prior = np.ones(K) * 1.0\n",
    "# theta = np.array([[0.1, 0.9, 0.0, 0.0], [0.0, 0.05, 0.45, 0.5]])\n",
    "# pi = np.array([0.6, 0.4])\n",
    "# x, z, theta, pi = generate_data(N, D, K, theta, pi)\n",
    "x, z, theta, pi = generate_data_and_priors(N, D, K, a_prior, b_prior, alpha_prior)\n",
    "out = CAVI_algorithm(x, K, n_iter, a_prior, b_prior, alpha_prior)\n",
    "r_q_out = out[\"r_q\"]\n",
    "a_q_out = out[\"a_q\"]\n",
    "b_q_out = out[\"b_q\"]\n",
    "alpha_q_out = out[\"alpha_q\"]\n",
    "elbo = out[\"elbo\"]\n",
    "np.printoptions(precision=2)\n",
    "print(f\"Print results (check for label switching).\")\n",
    "print(f\"z :{z[0:10]}\")\n",
    "# As q(Z) is our variational posterior and is a Categorical, argmax corresponds to our MAP estimates\n",
    "MAP_assignments = r_q_out[-1].argmax(axis=1)\n",
    "print(f\"r_q :{MAP_assignments[0:10]}\")\n",
    "print(f\"ARI :{adjusted_rand_score(z, MAP_assignments)}\")  # clustering metric that is independent of label switching\n",
    "\n",
    "print(f\"Expected value pi: {alpha_q_out[-1] / np.sum(alpha_q_out[-1])}\")\n",
    "print(f\"True pi: {pi}\")"
   ]
  },
  {
   "cell_type": "code",
   "execution_count": 10,
   "metadata": {
    "ExecuteTime": {
     "end_time": "2024-11-16T21:52:55.762478Z",
     "start_time": "2024-11-16T21:52:55.646474Z"
    },
    "collapsed": false
   },
   "outputs": [
    {
     "data": {
      "text/plain": [
       "Text(0, 0.5, 'ELBO')"
      ]
     },
     "execution_count": 10,
     "metadata": {},
     "output_type": "execute_result"
    },
    {
     "data": {
      "image/png": "[encoded data removed]",
      "text/plain": [
       "<Figure size 640x480 with 1 Axes>"
      ]
     },
     "metadata": {},
     "output_type": "display_data"
    }
   ],
   "source": [
    "elbo = out[\"elbo\"]\n",
    "plt.plot(elbo)\n",
    "plt.title(\"ELBO\")\n",
    "plt.xlabel(\"Iteration\")\n",
    "plt.ylabel(\"ELBO\")"
   ]
  },
  {
   "cell_type": "markdown",
   "metadata": {
    "collapsed": false
   },
   "source": [
    "## SVI tailored updates and SVI algorithm"
   ]
  },
  {
   "cell_type": "markdown",
   "metadata": {},
   "source": [
    "### SVI update equations"
   ]
  },
  {
   "cell_type": "code",
   "execution_count": 11,
   "metadata": {
    "ExecuteTime": {
     "end_time": "2024-11-16T21:52:55.775980Z",
     "start_time": "2024-11-16T21:52:55.773445Z"
    }
   },
   "outputs": [],
   "source": [
    "def update_q_Z_batch(batch, x, a_q, b_q, alpha_q):\n",
    "    \"\"\"\n",
    "    Implements the SVI update equation of q(Z) derived in the solution of the exercise.\n",
    "    \"\"\"\n",
    "    E_log_theta = sp_spec.digamma(a_q) - sp_spec.digamma(a_q + b_q)  # K x D\n",
    "    E_log_1_minus_theta = sp_spec.digamma(b_q) - sp_spec.digamma(a_q + b_q)  # K x D\n",
    "    E_log_pi = sp_spec.digamma(alpha_q) - sp_spec.digamma(np.sum(alpha_q))  # K array\n",
    "\n",
    "    x_batch = x[batch]\n",
    "\n",
    "    log_rho = (np.einsum('nd,kd->nk', x_batch, E_log_theta)\n",
    "               + np.einsum('nd,kd->nk', 1 - x_batch, E_log_1_minus_theta)\n",
    "               + E_log_pi)\n",
    "\n",
    "    r_star = np.exp(log_rho - sp_spec.logsumexp(log_rho, axis=1, keepdims=True))\n",
    "    return r_star"
   ]
  },
  {
   "cell_type": "code",
   "execution_count": 12,
   "metadata": {
    "ExecuteTime": {
     "end_time": "2024-11-16T21:52:55.834155Z",
     "start_time": "2024-11-16T21:52:55.831856Z"
    }
   },
   "outputs": [],
   "source": [
    "def update_q_theta_batch(batch, x, r_q, a_prior, b_prior):\n",
    "    E_Z = r_q[batch]\n",
    "    N, D = x.shape\n",
    "    x_batch = x[batch]\n",
    "    a_star = np.einsum('nk,nd->nkd', E_Z, x_batch) * N + a_prior\n",
    "    b_star = np.einsum('nk,nd->nkd', E_Z, 1 - x_batch) * N + b_prior\n",
    "    return a_star, b_star"
   ]
  },
  {
   "cell_type": "code",
   "execution_count": 13,
   "metadata": {
    "ExecuteTime": {
     "end_time": "2024-11-16T21:52:55.840241Z",
     "start_time": "2024-11-16T21:52:55.838588Z"
    }
   },
   "outputs": [],
   "source": [
    "def update_q_pi_batch(batch, r_q, alpha_prior):\n",
    "    E_Z = r_q[batch]\n",
    "    N, K = r_q.shape\n",
    "    alpha_star = E_Z * N + alpha_prior  # size K array\n",
    "    return alpha_star"
   ]
  },
  {
   "cell_type": "markdown",
   "metadata": {},
   "source": [
    "### SVI algorithm"
   ]
  },
  {
   "cell_type": "code",
   "execution_count": 14,
   "metadata": {
    "ExecuteTime": {
     "end_time": "2024-11-16T21:52:55.854931Z",
     "start_time": "2024-11-16T21:52:55.850808Z"
    },
    "collapsed": false
   },
   "outputs": [],
   "source": [
    "def SVI_algorithm(x, K, n_iter, a_prior, b_prior, alpha_prior, S=1, tol=1e-6):\n",
    "    N, D = x.shape\n",
    "\n",
    "    r_q, a_q, b_q, alpha_q = initialize_q(x, K)\n",
    "    elbo_after_init = calculate_elbo(x, r_q, a_q, b_q, alpha_q)\n",
    "    # Store output per iteration\n",
    "    elbo = [elbo_after_init]\n",
    "    r_q_out = [r_q]\n",
    "    a_q_out = [a_q]\n",
    "    b_q_out = [b_q]\n",
    "    alpha_q_out = [alpha_q]\n",
    "\n",
    "    # Step size schedule\n",
    "    delay = 10 # int(n_iter/10)\n",
    "    forgetting_rate = 0.5\n",
    "    rho = lambda t: (t + delay) ** (-forgetting_rate)\n",
    "\n",
    "    pbar = tqdm.tqdm(range(n_iter))\n",
    "    for i in pbar:\n",
    "        # sample datapoint and set step size, rho. We are only considering batch size\n",
    "        batch = np.random.randint(0, N, size=S)\n",
    "        rho_t = rho(i)\n",
    "\n",
    "        ####### SVI updates\n",
    "        # Local updates\n",
    "        r_star = update_q_Z_batch(batch, x, a_q, b_q, alpha_q)\n",
    "        r_q[batch] = (1 - rho_t)*r_q[batch] + rho_t * (r_star - r_q[batch])\n",
    "        r_q[batch] = r_q[batch] / np.sum(r_q[batch], axis=1, keepdims=True)  # normalize\n",
    "\n",
    "        # Global updates\n",
    "        # q(theta) update\n",
    "        a_star_batch, b_star_batch = update_q_theta_batch(batch, x, r_q, a_prior, b_prior)\n",
    "        a_q = (1 - rho_t) * a_q + rho_t/S * np.sum(a_star_batch, axis=0)  # Note this is simplifies to step 7. in fig 4. in Hoffman when S=1\n",
    "        b_q = (1 - rho_t) * b_q + rho_t/S * np.sum(b_star_batch, axis=0)\n",
    "\n",
    "        # q(pi) update\n",
    "        alpha_star_batch = update_q_pi_batch(batch, r_q, alpha_prior)\n",
    "        alpha_q = (1 - rho_t) * alpha_q + rho_t/S * np.sum(alpha_star_batch, axis=0)\n",
    "\n",
    "        # ELBO\n",
    "        elbo.append(calculate_elbo(x, r_q, a_q, b_q, alpha_q))\n",
    "\n",
    "        # outputs\n",
    "        r_q_out.append(r_q)\n",
    "        a_q_out.append(a_q)\n",
    "        b_q_out.append(b_q)\n",
    "        alpha_q_out.append(alpha_q)\n",
    "\n",
    "        pbar.set_description(f\"ELBO: {elbo[i]:.2f}, rho_t: {rho_t:.2f}\")\n",
    "\n",
    "        if i > 1 and np.abs(elbo[i] - elbo[i - 1]) < tol:\n",
    "            break\n",
    "\n",
    "    r_q_out = np.array(r_q_out)\n",
    "    a_q_out = np.array(a_q_out)\n",
    "    b_q_out = np.array(b_q_out)\n",
    "    alpha_q_out = np.array(alpha_q_out)\n",
    "    elbo = np.array(elbo)\n",
    "    out = {\"r_q\": r_q_out, \"a_q\": a_q_out, \"b_q\": b_q_out, \"alpha_q\": alpha_q_out, \"elbo\": elbo}\n",
    "    return out\n"
   ]
  },
  {
   "cell_type": "markdown",
   "metadata": {},
   "source": [
    "### Run SVI algorithm"
   ]
  },
  {
   "cell_type": "code",
   "execution_count": 15,
   "metadata": {
    "ExecuteTime": {
     "end_time": "2024-11-16T21:53:05.546581Z",
     "start_time": "2024-11-16T21:52:55.865297Z"
    }
   },
   "outputs": [
    {
     "name": "stderr",
     "output_type": "stream",
     "text": [
      "ELBO: -228493.13, rho_t: 0.02: 100%|██████████| 2000/2000 [00:09<00:00, 216.14it/s]\n"
     ]
    }
   ],
   "source": [
    "# Run optimization\n",
    "\"\"\"\n",
    "Run and tweak the parameters and examine the outcomes. How does N effect the variational posteriors/distributions?\n",
    "How does the priors effect the variational posteriors? What happens if the theta_k:s are closer together?\n",
    "\"\"\"\n",
    "# Set hyper parameters\n",
    "N = 1000\n",
    "D = 500\n",
    "K = 5\n",
    "S = int(N/10)\n",
    "n_iter = 2000\n",
    "\n",
    "# Simulate data\n",
    "a_sim = 1.\n",
    "b_sim = 1.\n",
    "alpha_sim = np.ones(K) * 1.0\n",
    "x, z, theta, pi = generate_data_and_priors(N, D, K, a_sim, b_sim, alpha_sim)\n",
    "\n",
    "# Set priors and run SVI\n",
    "a_prior = 1.\n",
    "b_prior = 1.\n",
    "alpha_prior = np.ones(K) * 10.0\n",
    "\n",
    "out_svi = SVI_algorithm(x, K, n_iter, a_prior, b_prior, alpha_prior, S=S)\n"
   ]
  },
  {
   "cell_type": "code",
   "execution_count": 16,
   "metadata": {
    "ExecuteTime": {
     "end_time": "2024-11-16T21:53:05.560876Z",
     "start_time": "2024-11-16T21:53:05.556661Z"
    }
   },
   "outputs": [
    {
     "name": "stdout",
     "output_type": "stream",
     "text": [
      "Print results (check for label switching).\n",
      "q(Z) MAP: [0 4 2 2 2 2 2 4 2 2]\n",
      "ARI: 1.0\n",
      "E_q[theta_k0]: [0.33019599 0.74421725 0.30987495 0.36853007 0.69911893]\n",
      "True theta d=0: [0.42314286 0.73733087 0.28184772 0.72106068 0.34719597]\n",
      "E_q[pi]: [0.13927739 0.04793344 0.48304893 0.04009261 0.28964763]\n",
      "True pi: [0.03752377 0.30083435 0.13432567 0.04115858 0.48615763]\n"
     ]
    }
   ],
   "source": [
    "a_q_out = out_svi[\"a_q\"]\n",
    "b_q_out = out_svi[\"b_q\"]\n",
    "alpha_q_out = out_svi[\"alpha_q\"]\n",
    "elbo_svi = out_svi[\"elbo\"]\n",
    "\n",
    "# Check output\n",
    "np.printoptions(precision=2)\n",
    "print(f\"Print results (check for label switching).\")\n",
    "# As q(Z) is our variational posterior and is a Categorical, argmax corresponds to our MAP estimates\n",
    "MAP_assignments = out_svi['r_q'][-1].argmax(axis=1)\n",
    "print(f\"q(Z) MAP: {MAP_assignments[0:10]}\")\n",
    "print(f\"ARI: {adjusted_rand_score(z, MAP_assignments)}\")   # clustering metric that is independent of label switching\n",
    "print(f\"E_q[theta_k0]: {a_q_out[-1][:, 0] / (a_q_out[-1][:, 0] + b_q_out[-1][:, 0])}\")  # E_q[theta] = a / (a + b) from expected value of Beta r.v.\n",
    "print(f\"True theta d=0: {theta[:, 0]}\")\n",
    "print(f\"E_q[pi]: {alpha_q_out[-1] / np.sum(alpha_q_out[-1])}\")\n",
    "print(f\"True pi: {pi}\")"
   ]
  },
  {
   "cell_type": "code",
   "execution_count": 17,
   "metadata": {
    "ExecuteTime": {
     "end_time": "2024-11-16T21:53:05.674968Z",
     "start_time": "2024-11-16T21:53:05.582023Z"
    },
    "collapsed": false
   },
   "outputs": [
    {
     "data": {
      "image/png": "[encoded data removed]",
      "text/plain": [
       "<Figure size 640x480 with 1 Axes>"
      ]
     },
     "metadata": {},
     "output_type": "display_data"
    }
   ],
   "source": [
    "elbo_svi = out_svi[\"elbo\"]\n",
    "plt.plot(elbo_svi)\n",
    "plt.title(\"ELBO\")\n",
    "plt.xlabel(\"Iteration\")\n",
    "plt.ylabel(\"ELBO\")\n",
    "plt.show()"
   ]
  },
  {
   "cell_type": "markdown",
   "metadata": {
    "collapsed": false
   },
   "source": [
    "## SVI vs CAVI comparisons\n",
    "Here we run experiments on simulated data using the CAVI algorithm and SVI algorithm. The algorithms are then compared in terms of runtime, ELBO and relation to true parameters.\n",
    "Notice, for some configurations of the simulated data, SVI is both faster and yields better accuracy. Particularly, SVI is substantially faster for large N (approx. > 10**4) and large K (approx. K > 5). In practice, the batch size S is required to be larger than 1 to get good convergence and SVI needs to run for more iterations than SVI. The benefits of SVI are more clear for more complicated models, e.g. Topic models, than for this rather simple Beroulli mixture model."
   ]
  },
  {
   "cell_type": "markdown",
   "metadata": {
    "collapsed": false
   },
   "source": [
    "### Simulate data\n",
    "Simulate data and latent variables and parameters from priors"
   ]
  },
  {
   "cell_type": "code",
   "execution_count": 18,
   "metadata": {
    "ExecuteTime": {
     "end_time": "2024-11-16T21:53:08.241033Z",
     "start_time": "2024-11-16T21:53:05.686316Z"
    },
    "collapsed": false
   },
   "outputs": [
    {
     "name": "stdout",
     "output_type": "stream",
     "text": [
      "Sanity check on clusters: if theta's are too close clustering will be difficult\n",
      "Sampled theta: [[0.44912526 0.02370719 0.15599464 ... 0.61419174 0.77044003 0.08501802]\n",
      " [0.16314497 0.369553   0.81238762 ... 0.19531436 0.11831369 0.77513058]\n",
      " [0.40636513 0.54399896 0.87967511 ... 0.3363141  0.27949696 0.65394034]\n",
      " ...\n",
      " [0.22640358 0.78160409 0.19629046 ... 0.28081294 0.60108466 0.74056901]\n",
      " [0.55382019 0.32990988 0.53276071 ... 0.09242139 0.00999927 0.97094594]\n",
      " [0.08021106 0.20751691 0.88066712 ... 0.52689195 0.74227072 0.94281283]]\n",
      "Sampled pi: [0.23934209 0.21683263 0.22910859 0.08208506 0.04418532 0.07955513\n",
      " 0.10889117]\n"
     ]
    }
   ],
   "source": [
    "import time\n",
    "data_seed = 0\n",
    "np.random.seed(data_seed)\n",
    "N = 10**4\n",
    "D = 5 * 10**2\n",
    "evenly_spread_out_cluster_components = False\n",
    "K = 7\n",
    "\n",
    "# Data generation parameters\n",
    "pi_alpha_sim = np.ones(K) * 3.\n",
    "\n",
    "if evenly_spread_out_cluster_components: # Use to avoid clusters being too similar for accurate clustering\n",
    "  theta = np.linspace(0, 1, K)\n",
    "  pi = np_rand.dirichlet(pi_alpha_sim)\n",
    "  x, z, theta, pi = generate_data(N, D, K, theta, pi)\n",
    "else:\n",
    "  theta_a_sim = 1.\n",
    "  theta_b_sim = 1.\n",
    "  x, z, theta, pi = generate_data_and_priors(N, D, K, theta_a_sim, theta_b_sim, pi_alpha_sim)\n",
    "\n",
    "print(\"Sanity check on clusters: if theta's are too close clustering will be difficult\")\n",
    "print(f\"Sampled theta: {theta}\")\n",
    "print(f\"Sampled pi: {pi}\")"
   ]
  },
  {
   "cell_type": "markdown",
   "metadata": {
    "collapsed": false
   },
   "source": [
    "### Run the SVI algorithm and CAVI algorithm and measure time elapsed"
   ]
  },
  {
   "cell_type": "code",
   "execution_count": 19,
   "metadata": {
    "ExecuteTime": {
     "end_time": "2024-11-16T21:53:22.035324Z",
     "start_time": "2024-11-16T21:53:08.251874Z"
    },
    "collapsed": false
   },
   "outputs": [
    {
     "name": "stderr",
     "output_type": "stream",
     "text": [
      "ELBO: -3033463.84, rho_t: 0.10: 100%|██████████| 100/100 [00:04<00:00, 24.73it/s]\n",
      "ELBO: -3129427.78: 100%|██████████| 100/100 [00:07<00:00, 13.48it/s]\n"
     ]
    }
   ],
   "source": [
    "# Set hyper parameters\n",
    "S = np.max([1, int(N/20)])         # batch size\n",
    "n_iter_svi = 100\n",
    "n_iter_cavi = 100\n",
    "\n",
    "a_prior = 1.\n",
    "b_prior = 1.\n",
    "alpha_prior = np.ones(K) * 3.0\n",
    "\n",
    "start_svi = time.time()\n",
    "out_svi = SVI_algorithm(x, K, n_iter_svi, a_prior, b_prior, alpha_prior, S=S)\n",
    "end_svi = time.time()\n",
    "\n",
    "start_cavi = time.time()\n",
    "out = CAVI_algorithm(x, K, n_iter_cavi, a_prior, b_prior, alpha_prior)\n",
    "end_cavi = time.time()"
   ]
  },
  {
   "cell_type": "code",
   "execution_count": 20,
   "metadata": {
    "ExecuteTime": {
     "end_time": "2024-11-16T21:53:22.052081Z",
     "start_time": "2024-11-16T21:53:22.046607Z"
    },
    "collapsed": false
   },
   "outputs": [
    {
     "name": "stdout",
     "output_type": "stream",
     "text": [
      "Time SVI: 5.249811887741089\n",
      "Time CAVI: 8.531572103500366\n",
      "ARI SVI: 0.935323112707255\n",
      "ARI CAVI: 0.7752215188389203\n"
     ]
    }
   ],
   "source": [
    "print(f\"Time SVI: {end_svi - start_svi}\")\n",
    "print(f\"Time CAVI: {end_cavi - start_cavi}\")\n",
    "\n",
    "r_q_out_svi = out_svi[\"r_q\"]\n",
    "r_q_out_cavi = out[\"r_q\"]\n",
    "MAP_assignments_svi = r_q_out_svi[-1].argmax(axis=1)\n",
    "MAP_assignments_cavi = r_q_out_cavi[-1].argmax(axis=1)\n",
    "print(f\"ARI SVI: {adjusted_rand_score(z, MAP_assignments_svi)}\")\n",
    "print(f\"ARI CAVI: {adjusted_rand_score(z, MAP_assignments_cavi)}\")"
   ]
  },
  {
   "cell_type": "code",
   "execution_count": 21,
   "metadata": {
    "ExecuteTime": {
     "end_time": "2024-11-16T21:53:22.205724Z",
     "start_time": "2024-11-16T21:53:22.124617Z"
    },
    "collapsed": false
   },
   "outputs": [
    {
     "data": {
      "image/png": "[encoded data removed]",
      "text/plain": [
       "<Figure size 640x480 with 1 Axes>"
      ]
     },
     "metadata": {},
     "output_type": "display_data"
    }
   ],
   "source": [
    "elbo = out[\"elbo\"]\n",
    "elbo_svi = out_svi[\"elbo\"]\n",
    "plt.plot(elbo)\n",
    "plt.plot(elbo_svi)\n",
    "plt.legend([\"CAVI\", \"SVI\"])\n",
    "plt.title(\"ELBO\")\n",
    "plt.xlabel(\"Iteration\")\n",
    "plt.ylabel(\"ELBO\")\n",
    "plt.show()"
   ]
  },
  {
   "cell_type": "code",
   "execution_count": 22,
   "metadata": {
    "ExecuteTime": {
     "end_time": "2024-11-16T21:53:22.222409Z",
     "start_time": "2024-11-16T21:53:22.218416Z"
    },
    "collapsed": false
   },
   "outputs": [
    {
     "name": "stdout",
     "output_type": "stream",
     "text": [
      "E_q[theta] SVI: [[0.41655916 0.33064589 0.54193837 ... 0.27246046 0.24874826 0.74815265]\n",
      " [0.396772   0.10591304 0.26406662 ... 0.57209506 0.68196761 0.21440613]\n",
      " [0.38408572 0.47758947 0.78016752 ... 0.37199802 0.32844142 0.63679053]\n",
      " ...\n",
      " [0.18127232 0.37765603 0.31661517 ... 0.58036232 0.70239369 0.29318986]\n",
      " [0.22139504 0.34976438 0.62578944 ... 0.45234934 0.59409855 0.75169915]\n",
      " [0.30623775 0.32090825 0.55076442 ... 0.42637835 0.46032998 0.54004107]]\n",
      "E_q[theta] CAVI: [[0.34684497 0.21124533 0.32570177 ... 0.55667993 0.65556137 0.26382347]\n",
      " [0.25183523 0.35928526 0.68497136 ... 0.31980244 0.28559961 0.65598818]\n",
      " [0.36772657 0.34594344 0.5733673  ... 0.32371978 0.35204919 0.6512992 ]\n",
      " ...\n",
      " [0.27906301 0.36489901 0.71766107 ... 0.41985224 0.47220722 0.66871389]\n",
      " [0.33904333 0.35538675 0.55610659 ... 0.42328182 0.45764232 0.51221011]\n",
      " [0.34082645 0.35575063 0.56136622 ... 0.39500439 0.44406842 0.54458497]]\n",
      "True theta: [[0.44912526 0.02370719 0.15599464 ... 0.61419174 0.77044003 0.08501802]\n",
      " [0.16314497 0.369553   0.81238762 ... 0.19531436 0.11831369 0.77513058]\n",
      " [0.40636513 0.54399896 0.87967511 ... 0.3363141  0.27949696 0.65394034]\n",
      " ...\n",
      " [0.22640358 0.78160409 0.19629046 ... 0.28081294 0.60108466 0.74056901]\n",
      " [0.55382019 0.32990988 0.53276071 ... 0.09242139 0.00999927 0.97094594]\n",
      " [0.08021106 0.20751691 0.88066712 ... 0.52689195 0.74227072 0.94281283]]\n",
      "E_q[pi] SVI: [0.10765745 0.19823828 0.19010296 0.18518338 0.11431046 0.14615854\n",
      " 0.05834892]\n",
      "E_q[pi] CAVI: [0.19884289 0.18594071 0.1276585  0.11423344 0.18486107 0.10041432\n",
      " 0.08804907]\n",
      "True pi: [0.23934209 0.21683263 0.22910859 0.08208506 0.04418532 0.07955513\n",
      " 0.10889117]\n"
     ]
    }
   ],
   "source": [
    "# Compare true parameters with variational output\n",
    "a_q_out_svi = out_svi[\"a_q\"]\n",
    "b_q_out_svi = out_svi[\"b_q\"]\n",
    "alpha_q_out_svi = out_svi[\"alpha_q\"]\n",
    "a_q_out_cavi = out[\"a_q\"]\n",
    "b_q_out_cavi = out[\"b_q\"]\n",
    "alpha_q_out_cavi = out[\"alpha_q\"]\n",
    "\n",
    "print(f\"E_q[theta] SVI: {a_q_out_svi[-1] / (a_q_out_svi[-1] + b_q_out_svi[-1])}\")\n",
    "print(f\"E_q[theta] CAVI: {a_q_out_cavi[-1] / (a_q_out_cavi[-1] + b_q_out_cavi[-1])}\")\n",
    "print(f\"True theta: {theta}\")\n",
    "print(f\"E_q[pi] SVI: {alpha_q_out_svi[-1] / np.sum(alpha_q_out_svi[-1])}\")\n",
    "print(f\"E_q[pi] CAVI: {alpha_q_out_cavi[-1] / np.sum(alpha_q_out_cavi[-1])}\")\n",
    "print(f\"True pi: {pi}\")"
   ]
  },
  {
   "cell_type": "markdown",
   "metadata": {},
   "source": [
    "## SVI on MNIST\n",
    "\n",
    "Now we can run on a larger dataset than for the CAVI algorithm. Let's try some larger N and larger K. "
   ]
  },
  {
   "cell_type": "code",
   "execution_count": 29,
   "metadata": {
    "ExecuteTime": {
     "end_time": "2024-11-16T22:03:24.611765Z",
     "start_time": "2024-11-16T22:03:21.725925Z"
    }
   },
   "outputs": [],
   "source": [
    "from sklearn.datasets import fetch_openml\n",
    "np.random.seed(0)\n",
    "mnist = fetch_openml('mnist_784')\n",
    "X = mnist.data\n",
    "y = mnist.target\n",
    "X = X.to_numpy()\n",
    "\n",
    "selected_digits = [0, 1, 2, 3, 4, 5]\n",
    "train_filter = []\n",
    "K_true = len(selected_digits)\n",
    "N_k = np.array([1000] * K_true) * 5\n",
    "for k, s in enumerate(selected_digits):\n",
    "    train_filter.append(np.where(y == str(s))[0][0:N_k[k]])\n",
    "\n",
    "train_filter = np.concatenate(train_filter)\n",
    "X = X[train_filter, :]\n",
    "y = y[train_filter]\n",
    "N = len(train_filter)\n",
    "X = X[0:N, :]\n",
    "X = (X > 127.5).astype(int)  # binarize"
   ]
  },
  {
   "cell_type": "code",
   "execution_count": 30,
   "metadata": {
    "ExecuteTime": {
     "end_time": "2024-11-16T22:08:02.491150Z",
     "start_time": "2024-11-16T22:03:24.630931Z"
    }
   },
   "outputs": [
    {
     "name": "stdout",
     "output_type": "stream",
     "text": [
      "Priors: [5000.00 5000.00 5000.00 5000.00 5000.00 5000.00]\n",
      "Number of iterations: 1000\n",
      "Number of datapoints: 30000\n",
      "Batch size: 500\n"
     ]
    },
    {
     "name": "stderr",
     "output_type": "stream",
     "text": [
      "ELBO: -5799307.65, rho_t: 0.03: 100%|██████████| 1000/1000 [04:26<00:00,  3.75it/s]\n"
     ]
    }
   ],
   "source": [
    "N, D = X.shape\n",
    "S = 500\n",
    "K = K_true\n",
    "n_iter = 2000\n",
    "a_prior = 1.\n",
    "b_prior = 1.\n",
    "alpha_prior = np.ones(K) * N/K\n",
    "\n",
    "print(f\"Priors: {alpha_prior}\")\n",
    "print(f\"Number of iterations: {n_iter}\")\n",
    "print(f\"Number of datapoints: {N}\")\n",
    "print(f\"Batch size: {S}\")\n",
    "out_svi_mnist = SVI_algorithm(X, K, n_iter, a_prior, b_prior, alpha_prior, S=S)"
   ]
  },
  {
   "cell_type": "code",
   "execution_count": 31,
   "metadata": {
    "ExecuteTime": {
     "end_time": "2024-11-16T22:08:02.635430Z",
     "start_time": "2024-11-16T22:08:02.535801Z"
    }
   },
   "outputs": [
    {
     "data": {
      "text/plain": [
       "Text(0, 0.5, 'ELBO')"
      ]
     },
     "execution_count": 31,
     "metadata": {},
     "output_type": "execute_result"
    },
    {
     "data": {
      "image/png": "[encoded data removed]",
      "text/plain": [
       "<Figure size 640x480 with 1 Axes>"
      ]
     },
     "metadata": {},
     "output_type": "display_data"
    }
   ],
   "source": [
    "elbo_mnist = out_svi_mnist[\"elbo\"]\n",
    "plt.plot(elbo_mnist)\n",
    "plt.title(\"ELBO\")\n",
    "plt.xlabel(\"Iteration\")\n",
    "plt.ylabel(\"ELBO\")"
   ]
  },
  {
   "cell_type": "code",
   "execution_count": 32,
   "metadata": {
    "ExecuteTime": {
     "end_time": "2024-11-16T22:55:20.192501Z",
     "start_time": "2024-11-16T22:55:18.693183Z"
    }
   },
   "outputs": [
    {
     "name": "stdout",
     "output_type": "stream",
     "text": [
      "ARI KMeans:0.49741100027588253\n",
      "(30000,)\n",
      "MAP assignments: [2 2 4 2 2 2 2 2 2 2]\n",
      "ARI SVI: 0.47768077565309014\n",
      "True pi: [0.17 0.17 0.17 0.17 0.17 0.17]\n",
      "Expected value pi: [0.15 0.15 0.16 0.19 0.16 0.18]\n"
     ]
    }
   ],
   "source": [
    "r_q_out = out_svi_mnist[\"r_q\"]\n",
    "a_q_out = out_svi_mnist[\"a_q\"]\n",
    "b_q_out = out_svi_mnist[\"b_q\"]\n",
    "alpha_q_out = out_svi_mnist[\"alpha_q\"]\n",
    "elbo_mnist = out_svi_mnist[\"elbo\"]\n",
    "np.printoptions(precision=2)\n",
    "\n",
    "sklearn_kmeans = KMeans(n_clusters=K, random_state=0, n_init=1).fit(X)\n",
    "labels = sklearn_kmeans.labels_\n",
    "print(f\"ARI KMeans:{adjusted_rand_score(y[0:N], labels)}\")  # clustering metric that is independent of label switching\n",
    "\n",
    "MAP_assignments_svi_mnist = r_q_out[-1].argmax(axis=1)\n",
    "print(MAP_assignments_svi_mnist.shape)\n",
    "print(f\"MAP assignments: {MAP_assignments_svi_mnist[0:10]}\")\n",
    "print(f\"ARI SVI: {adjusted_rand_score(y[0:N], MAP_assignments_svi_mnist)}\")\n",
    "\n",
    "y_labels, y_counts = np.unique(y[0:N], return_counts=True)\n",
    "print(f\"True pi: {y_counts / np.sum(y_counts)}\")\n",
    "print(f\"Expected value pi: {alpha_q_out[-1] / np.sum(alpha_q_out[-1])}\")"
   ]
  },
  {
   "cell_type": "markdown",
   "metadata": {},
   "source": [
    "### Visualize components"
   ]
  },
  {
   "cell_type": "code",
   "execution_count": 33,
   "metadata": {
    "ExecuteTime": {
     "end_time": "2024-11-16T22:55:22.552713Z",
     "start_time": "2024-11-16T22:55:22.381446Z"
    }
   },
   "outputs": [
    {
     "data": {
      "image/png": "[encoded data removed]",
      "text/plain": [
       "<Figure size 640x480 with 6 Axes>"
      ]
     },
     "metadata": {},
     "output_type": "display_data"
    }
   ],
   "source": [
    "# Plothe E_q[theta_k] for each k\n",
    "for k in range(K):\n",
    "    plt.subplot(2, int(K/2) + (K % 2), k + 1)\n",
    "    E_theta_k = a_q_out[-1][k] / (a_q_out[-1][k] + b_q_out[-1][k])\n",
    "    plt.imshow(E_theta_k.reshape(28, 28), cmap=\"gray\")\n",
    "    plt.axis(\"off\")"
   ]
  },
  {
   "cell_type": "code",
   "execution_count": 28,
   "metadata": {
    "ExecuteTime": {
     "end_time": "2024-11-16T21:59:49.008804Z",
     "start_time": "2024-11-16T21:59:48.196189Z"
    }
   },
   "outputs": [
    {
     "name": "stdout",
     "output_type": "stream",
     "text": [
      "Probability of most uncertain sample of cluster 0: [0.24 0.11 0.13 0.10 0.13 0.09 0.20]\n",
      "Probability of most certain sample of cluster 0: [0.89 0.00 0.03 0.01 0.00 0.03 0.04]\n",
      "Probability of most uncertain sample of cluster 1: [0.14 0.23 0.11 0.13 0.11 0.10 0.17]\n",
      "Probability of most certain sample of cluster 1: [0.03 0.91 0.01 0.01 0.02 0.02 0.02]\n",
      "Probability of most uncertain sample of cluster 2: [0.16 0.11 0.19 0.15 0.17 0.15 0.08]\n",
      "Probability of most certain sample of cluster 2: [0.01 0.09 0.42 0.01 0.35 0.10 0.02]\n",
      "Probability of most uncertain sample of cluster 3: [0.13 0.12 0.09 0.24 0.16 0.13 0.13]\n",
      "Probability of most certain sample of cluster 3: [0.01 0.00 0.01 0.94 0.02 0.00 0.02]\n",
      "Probability of most uncertain sample of cluster 4: [0.12 0.09 0.13 0.11 0.19 0.19 0.18]\n",
      "Probability of most certain sample of cluster 4: [0.01 0.01 0.01 0.01 0.95 0.01 0.00]\n",
      "Probability of most uncertain sample of cluster 5: [0.11 0.14 0.16 0.10 0.09 0.21 0.18]\n",
      "Probability of most certain sample of cluster 5: [0.01 0.00 0.01 0.02 0.00 0.95 0.01]\n",
      "Probability of most uncertain sample of cluster 6: [0.13 0.18 0.11 0.10 0.15 0.09 0.24]\n",
      "Probability of most certain sample of cluster 6: [0.02 0.00 0.13 0.03 0.04 0.04 0.74]\n"
     ]
    },
    {
     "data": {
      "image/png": "[encoded data removed]",
      "text/plain": [
       "<Figure size 2000x1000 with 14 Axes>"
      ]
     },
     "metadata": {},
     "output_type": "display_data"
    }
   ],
   "source": [
    "import scipy.stats as sp_stats\n",
    "# Plot most certain vs uncertain images\n",
    "fig, axs = plt.subplots(2, K, figsize=(20, 10))\n",
    "np.set_printoptions(formatter={'float': lambda x: \"{0:0.2f}\".format(x)})\n",
    "for k in range(K):\n",
    "    idx_qZ_k = np.where(MAP_assignments_svi_mnist==k)[0]\n",
    "    max_entropy_idx = np.argmax(sp_stats.entropy(r_q_out[-1][idx_qZ_k], axis=1))\n",
    "    print(f\"Probability of most uncertain sample of cluster {k}: {r_q_out[-1][idx_qZ_k][max_entropy_idx]}\")\n",
    "    min_entropy_idx = np.argmin(sp_stats.entropy(r_q_out[-1][idx_qZ_k], axis=1))\n",
    "    print(f\"Probability of most certain sample of cluster {k}: {r_q_out[-1][idx_qZ_k][min_entropy_idx]}\")\n",
    "    max_entr_img = X[idx_qZ_k][max_entropy_idx]\n",
    "    min_entr_img = X[idx_qZ_k][min_entropy_idx]\n",
    "    axs[0, k].imshow(max_entr_img.reshape(28, 28), cmap=\"gray\")\n",
    "    axs[1, k].imshow(min_entr_img.reshape(28, 28), cmap=\"gray\")"
   ]
  },
  {
   "cell_type": "code",
   "execution_count": null,
   "metadata": {
    "ExecuteTime": {
     "end_time": "2024-11-16T21:59:49.015404Z",
     "start_time": "2024-11-16T21:59:49.014Z"
    }
   },
   "outputs": [],
   "source": []
  }
 ],
 "metadata": {
  "kernelspec": {
   "display_name": "Python 3",
   "language": "python",
   "name": "python3"
  },
  "language_info": {
   "codemirror_mode": {
    "name": "ipython",
    "version": 3
   },
   "file_extension": ".py",
   "mimetype": "text/x-python",
   "name": "python",
   "nbconvert_exporter": "python",
   "pygments_lexer": "ipython3",
   "version": "3.11.1"
  }
 },
 "nbformat": 4,
 "nbformat_minor": 0
}
